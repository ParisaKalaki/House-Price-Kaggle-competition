{
 "cells": [
  {
   "cell_type": "code",
   "execution_count": 1,
   "id": "783d7873",
   "metadata": {
    "_kg_hide-input": true,
    "execution": {
     "iopub.execute_input": "2022-07-04T11:14:14.628083Z",
     "iopub.status.busy": "2022-07-04T11:14:14.627180Z",
     "iopub.status.idle": "2022-07-04T11:14:16.778111Z",
     "shell.execute_reply": "2022-07-04T11:14:16.776631Z"
    },
    "papermill": {
     "duration": 2.173857,
     "end_time": "2022-07-04T11:14:16.781183",
     "exception": false,
     "start_time": "2022-07-04T11:14:14.607326",
     "status": "completed"
    },
    "tags": []
   },
   "outputs": [],
   "source": [
    "\n",
    "import os\n",
    "import warnings\n",
    "from pathlib import Path\n",
    "\n",
    "import matplotlib.pyplot as plt\n",
    "import numpy as np\n",
    "import pandas as pd\n",
    "import seaborn as sns\n",
    "from IPython.display import display\n",
    "from pandas.api.types import CategoricalDtype\n",
    "\n",
    "from category_encoders import MEstimateEncoder\n",
    "from sklearn.cluster import KMeans\n",
    "from sklearn.decomposition import PCA\n",
    "from sklearn.feature_selection import mutual_info_regression\n",
    "from sklearn.model_selection import KFold, cross_val_score\n",
    "from xgboost import XGBRegressor\n",
    "\n",
    "\n",
    "# Set Matplotlib defaults\n",
    "plt.style.use(\"seaborn-whitegrid\")\n",
    "plt.rc(\"figure\", autolayout=True)\n",
    "plt.rc(\n",
    "    \"axes\",\n",
    "    labelweight=\"bold\",\n",
    "    labelsize=\"large\",\n",
    "    titleweight=\"bold\",\n",
    "    titlesize=14,\n",
    "    titlepad=10,\n",
    ")\n",
    "\n",
    "# Mute warnings\n",
    "warnings.filterwarnings('ignore')\n"
   ]
  },
  {
   "cell_type": "markdown",
   "id": "ac79ceb4",
   "metadata": {
    "papermill": {
     "duration": 0.009628,
     "end_time": "2022-07-04T11:14:16.802332",
     "exception": false,
     "start_time": "2022-07-04T11:14:16.792704",
     "status": "completed"
    },
    "tags": []
   },
   "source": [
    "## Data Preprocessing ##\n",
    "\n",
    "Before we can do any feature engineering, we need to *preprocess* the data to get it in a form suitable for analysis. The data we used in the course was a bit simpler than the competition data. For the *Ames* competition dataset, we'll need to:\n",
    "- **Load** the data from CSV files\n",
    "- **Clean** the data to fix any errors or inconsistencies\n",
    "- **Encode** the statistical data type (numeric, categorical)\n",
    "- **Impute** any missing values\n",
    "\n",
    "We'll wrap all these steps up in a function, which will make easy for you to get a fresh dataframe whenever you need. After reading the CSV file, we'll apply three preprocessing steps, `clean`, `encode`, and `impute`, and then create the data splits: one (`df_train`) for training the model, and one (`df_test`) for making the predictions that you'll submit to the competition for scoring on the leaderboard."
   ]
  },
  {
   "cell_type": "code",
   "execution_count": 2,
   "id": "65386c16",
   "metadata": {
    "execution": {
     "iopub.execute_input": "2022-07-04T11:14:16.824112Z",
     "iopub.status.busy": "2022-07-04T11:14:16.823434Z",
     "iopub.status.idle": "2022-07-04T11:14:16.913618Z",
     "shell.execute_reply": "2022-07-04T11:14:16.912235Z"
    },
    "papermill": {
     "duration": 0.104354,
     "end_time": "2022-07-04T11:14:16.916438",
     "exception": false,
     "start_time": "2022-07-04T11:14:16.812084",
     "status": "completed"
    },
    "tags": []
   },
   "outputs": [],
   "source": [
    "\n",
    "data_dir = Path(\"../input/house-prices-advanced-regression-techniques/\")\n",
    "df_train = pd.read_csv(data_dir / \"train.csv\", index_col=\"Id\")\n",
    "df_test = pd.read_csv(data_dir / \"test.csv\", index_col=\"Id\")\n"
   ]
  },
  {
   "cell_type": "code",
   "execution_count": 3,
   "id": "f35fcda4",
   "metadata": {
    "execution": {
     "iopub.execute_input": "2022-07-04T11:14:16.938703Z",
     "iopub.status.busy": "2022-07-04T11:14:16.938303Z",
     "iopub.status.idle": "2022-07-04T11:14:16.947640Z",
     "shell.execute_reply": "2022-07-04T11:14:16.946200Z"
    },
    "papermill": {
     "duration": 0.023228,
     "end_time": "2022-07-04T11:14:16.949719",
     "exception": false,
     "start_time": "2022-07-04T11:14:16.926491",
     "status": "completed"
    },
    "tags": []
   },
   "outputs": [
    {
     "data": {
      "text/plain": [
       "(1460, 80)"
      ]
     },
     "execution_count": 3,
     "metadata": {},
     "output_type": "execute_result"
    }
   ],
   "source": [
    "\n",
    "df_train.shape"
   ]
  },
  {
   "cell_type": "code",
   "execution_count": 4,
   "id": "1ed4ee76",
   "metadata": {
    "execution": {
     "iopub.execute_input": "2022-07-04T11:14:16.971985Z",
     "iopub.status.busy": "2022-07-04T11:14:16.971566Z",
     "iopub.status.idle": "2022-07-04T11:14:17.003740Z",
     "shell.execute_reply": "2022-07-04T11:14:17.002802Z"
    },
    "papermill": {
     "duration": 0.046612,
     "end_time": "2022-07-04T11:14:17.006379",
     "exception": false,
     "start_time": "2022-07-04T11:14:16.959767",
     "status": "completed"
    },
    "tags": []
   },
   "outputs": [
    {
     "name": "stdout",
     "output_type": "stream",
     "text": [
      "<class 'pandas.core.frame.DataFrame'>\n",
      "Int64Index: 1460 entries, 1 to 1460\n",
      "Data columns (total 80 columns):\n",
      " #   Column         Non-Null Count  Dtype  \n",
      "---  ------         --------------  -----  \n",
      " 0   MSSubClass     1460 non-null   int64  \n",
      " 1   MSZoning       1460 non-null   object \n",
      " 2   LotFrontage    1201 non-null   float64\n",
      " 3   LotArea        1460 non-null   int64  \n",
      " 4   Street         1460 non-null   object \n",
      " 5   Alley          91 non-null     object \n",
      " 6   LotShape       1460 non-null   object \n",
      " 7   LandContour    1460 non-null   object \n",
      " 8   Utilities      1460 non-null   object \n",
      " 9   LotConfig      1460 non-null   object \n",
      " 10  LandSlope      1460 non-null   object \n",
      " 11  Neighborhood   1460 non-null   object \n",
      " 12  Condition1     1460 non-null   object \n",
      " 13  Condition2     1460 non-null   object \n",
      " 14  BldgType       1460 non-null   object \n",
      " 15  HouseStyle     1460 non-null   object \n",
      " 16  OverallQual    1460 non-null   int64  \n",
      " 17  OverallCond    1460 non-null   int64  \n",
      " 18  YearBuilt      1460 non-null   int64  \n",
      " 19  YearRemodAdd   1460 non-null   int64  \n",
      " 20  RoofStyle      1460 non-null   object \n",
      " 21  RoofMatl       1460 non-null   object \n",
      " 22  Exterior1st    1460 non-null   object \n",
      " 23  Exterior2nd    1460 non-null   object \n",
      " 24  MasVnrType     1452 non-null   object \n",
      " 25  MasVnrArea     1452 non-null   float64\n",
      " 26  ExterQual      1460 non-null   object \n",
      " 27  ExterCond      1460 non-null   object \n",
      " 28  Foundation     1460 non-null   object \n",
      " 29  BsmtQual       1423 non-null   object \n",
      " 30  BsmtCond       1423 non-null   object \n",
      " 31  BsmtExposure   1422 non-null   object \n",
      " 32  BsmtFinType1   1423 non-null   object \n",
      " 33  BsmtFinSF1     1460 non-null   int64  \n",
      " 34  BsmtFinType2   1422 non-null   object \n",
      " 35  BsmtFinSF2     1460 non-null   int64  \n",
      " 36  BsmtUnfSF      1460 non-null   int64  \n",
      " 37  TotalBsmtSF    1460 non-null   int64  \n",
      " 38  Heating        1460 non-null   object \n",
      " 39  HeatingQC      1460 non-null   object \n",
      " 40  CentralAir     1460 non-null   object \n",
      " 41  Electrical     1459 non-null   object \n",
      " 42  1stFlrSF       1460 non-null   int64  \n",
      " 43  2ndFlrSF       1460 non-null   int64  \n",
      " 44  LowQualFinSF   1460 non-null   int64  \n",
      " 45  GrLivArea      1460 non-null   int64  \n",
      " 46  BsmtFullBath   1460 non-null   int64  \n",
      " 47  BsmtHalfBath   1460 non-null   int64  \n",
      " 48  FullBath       1460 non-null   int64  \n",
      " 49  HalfBath       1460 non-null   int64  \n",
      " 50  BedroomAbvGr   1460 non-null   int64  \n",
      " 51  KitchenAbvGr   1460 non-null   int64  \n",
      " 52  KitchenQual    1460 non-null   object \n",
      " 53  TotRmsAbvGrd   1460 non-null   int64  \n",
      " 54  Functional     1460 non-null   object \n",
      " 55  Fireplaces     1460 non-null   int64  \n",
      " 56  FireplaceQu    770 non-null    object \n",
      " 57  GarageType     1379 non-null   object \n",
      " 58  GarageYrBlt    1379 non-null   float64\n",
      " 59  GarageFinish   1379 non-null   object \n",
      " 60  GarageCars     1460 non-null   int64  \n",
      " 61  GarageArea     1460 non-null   int64  \n",
      " 62  GarageQual     1379 non-null   object \n",
      " 63  GarageCond     1379 non-null   object \n",
      " 64  PavedDrive     1460 non-null   object \n",
      " 65  WoodDeckSF     1460 non-null   int64  \n",
      " 66  OpenPorchSF    1460 non-null   int64  \n",
      " 67  EnclosedPorch  1460 non-null   int64  \n",
      " 68  3SsnPorch      1460 non-null   int64  \n",
      " 69  ScreenPorch    1460 non-null   int64  \n",
      " 70  PoolArea       1460 non-null   int64  \n",
      " 71  PoolQC         7 non-null      object \n",
      " 72  Fence          281 non-null    object \n",
      " 73  MiscFeature    54 non-null     object \n",
      " 74  MiscVal        1460 non-null   int64  \n",
      " 75  MoSold         1460 non-null   int64  \n",
      " 76  YrSold         1460 non-null   int64  \n",
      " 77  SaleType       1460 non-null   object \n",
      " 78  SaleCondition  1460 non-null   object \n",
      " 79  SalePrice      1460 non-null   int64  \n",
      "dtypes: float64(3), int64(34), object(43)\n",
      "memory usage: 923.9+ KB\n"
     ]
    }
   ],
   "source": [
    "df_train.info()"
   ]
  },
  {
   "cell_type": "code",
   "execution_count": 5,
   "id": "9aba1bce",
   "metadata": {
    "execution": {
     "iopub.execute_input": "2022-07-04T11:14:17.029298Z",
     "iopub.status.busy": "2022-07-04T11:14:17.028188Z",
     "iopub.status.idle": "2022-07-04T11:14:17.036944Z",
     "shell.execute_reply": "2022-07-04T11:14:17.035495Z"
    },
    "papermill": {
     "duration": 0.022687,
     "end_time": "2022-07-04T11:14:17.039447",
     "exception": false,
     "start_time": "2022-07-04T11:14:17.016760",
     "status": "completed"
    },
    "tags": []
   },
   "outputs": [],
   "source": [
    "def load_data():\n",
    "    # Read data\n",
    "    data_dir = Path(\"../input/house-prices-advanced-regression-techniques/\")\n",
    "    df_train = pd.read_csv(data_dir / \"train.csv\", index_col=\"Id\")\n",
    "    df_test = pd.read_csv(data_dir / \"test.csv\", index_col=\"Id\")\n",
    "    # Merge the splits so we can process them together\n",
    "    df = pd.concat([df_train, df_test])\n",
    "    # Preprocessing\n",
    "    df = clean(df)\n",
    "    df = encode(df)\n",
    "    df = impute(df)\n",
    "    # Reform splits\n",
    "    df_train = df.loc[df_train.index, :]\n",
    "    df_test = df.loc[df_test.index, :]\n",
    "    return df_train, df_test\n"
   ]
  },
  {
   "cell_type": "markdown",
   "id": "dc7abec0",
   "metadata": {
    "papermill": {
     "duration": 0.010144,
     "end_time": "2022-07-04T11:14:17.059955",
     "exception": false,
     "start_time": "2022-07-04T11:14:17.049811",
     "status": "completed"
    },
    "tags": []
   },
   "source": [
    "### Clean Data ###\n",
    "\n",
    "Some of the categorical features in this dataset have what are apparently typos in their categories:"
   ]
  },
  {
   "cell_type": "code",
   "execution_count": 6,
   "id": "40fb9688",
   "metadata": {
    "execution": {
     "iopub.execute_input": "2022-07-04T11:14:17.082251Z",
     "iopub.status.busy": "2022-07-04T11:14:17.081796Z",
     "iopub.status.idle": "2022-07-04T11:14:17.114595Z",
     "shell.execute_reply": "2022-07-04T11:14:17.113310Z"
    },
    "papermill": {
     "duration": 0.046866,
     "end_time": "2022-07-04T11:14:17.117194",
     "exception": false,
     "start_time": "2022-07-04T11:14:17.070328",
     "status": "completed"
    },
    "tags": []
   },
   "outputs": [
    {
     "data": {
      "text/plain": [
       "array(['VinylSd', 'MetalSd', 'Wd Shng', 'HdBoard', 'Plywood', 'Wd Sdng',\n",
       "       'CmentBd', 'BrkFace', 'Stucco', 'AsbShng', 'Brk Cmn', 'ImStucc',\n",
       "       'AsphShn', 'Stone', 'Other', 'CBlock'], dtype=object)"
      ]
     },
     "execution_count": 6,
     "metadata": {},
     "output_type": "execute_result"
    }
   ],
   "source": [
    "data_dir = Path(\"../input/house-prices-advanced-regression-techniques/\")\n",
    "df = pd.read_csv(data_dir / \"train.csv\", index_col=\"Id\")\n",
    "\n",
    "df.Exterior2nd.unique()"
   ]
  },
  {
   "cell_type": "markdown",
   "id": "51b8520f",
   "metadata": {
    "papermill": {
     "duration": 0.009966,
     "end_time": "2022-07-04T11:14:17.138436",
     "exception": false,
     "start_time": "2022-07-04T11:14:17.128470",
     "status": "completed"
    },
    "tags": []
   },
   "source": [
    "Comparing these to `data_description.txt` shows us what needs cleaning. We'll take care of a couple of issues here, but you might want to evaluate this data further."
   ]
  },
  {
   "cell_type": "code",
   "execution_count": 7,
   "id": "166b96f7",
   "metadata": {
    "execution": {
     "iopub.execute_input": "2022-07-04T11:14:17.160981Z",
     "iopub.status.busy": "2022-07-04T11:14:17.160576Z",
     "iopub.status.idle": "2022-07-04T11:14:17.167958Z",
     "shell.execute_reply": "2022-07-04T11:14:17.166675Z"
    },
    "papermill": {
     "duration": 0.021675,
     "end_time": "2022-07-04T11:14:17.170394",
     "exception": false,
     "start_time": "2022-07-04T11:14:17.148719",
     "status": "completed"
    },
    "tags": []
   },
   "outputs": [],
   "source": [
    "def clean(df):\n",
    "    df[\"Exterior2nd\"] = df[\"Exterior2nd\"].replace({\"Brk Cmn\": \"BrkComm\"})\n",
    "    # Some values of GarageYrBlt are corrupt, so we'll replace them\n",
    "    # with the year the house was built\n",
    "    df[\"GarageYrBlt\"] = df[\"GarageYrBlt\"].where(df.GarageYrBlt <= 2010, df.YearBuilt)\n",
    "    # Names beginning with numbers are awkward to work with\n",
    "    df.rename(columns={\n",
    "        \"1stFlrSF\": \"FirstFlrSF\",\n",
    "        \"2ndFlrSF\": \"SecondFlrSF\",\n",
    "        \"3SsnPorch\": \"Threeseasonporch\",\n",
    "    }, inplace=True,\n",
    "    )\n",
    "    return df\n"
   ]
  },
  {
   "cell_type": "markdown",
   "id": "87e9e6fb",
   "metadata": {
    "papermill": {
     "duration": 0.010962,
     "end_time": "2022-07-04T11:14:17.192639",
     "exception": false,
     "start_time": "2022-07-04T11:14:17.181677",
     "status": "completed"
    },
    "tags": []
   },
   "source": [
    "### Encode the Statistical Data Type ###\n",
    "\n",
    "Pandas has Python types corresponding to the standard statistical types (numeric, categorical, etc.). Encoding each feature with its correct type helps ensure each feature is treated appropriately by whatever functions we use, and makes it easier for us to apply transformations consistently. This hidden cell defines the `encode` function:"
   ]
  },
  {
   "cell_type": "code",
   "execution_count": 8,
   "id": "6b662fb3",
   "metadata": {
    "_kg_hide-input": true,
    "execution": {
     "iopub.execute_input": "2022-07-04T11:14:17.217367Z",
     "iopub.status.busy": "2022-07-04T11:14:17.216925Z",
     "iopub.status.idle": "2022-07-04T11:14:17.234773Z",
     "shell.execute_reply": "2022-07-04T11:14:17.233525Z"
    },
    "papermill": {
     "duration": 0.033299,
     "end_time": "2022-07-04T11:14:17.237698",
     "exception": false,
     "start_time": "2022-07-04T11:14:17.204399",
     "status": "completed"
    },
    "tags": []
   },
   "outputs": [],
   "source": [
    "\n",
    "# The numeric features are already encoded correctly (`float` for\n",
    "# continuous, `int` for discrete), but the categoricals we'll need to\n",
    "# do ourselves. Note in particular, that the `MSSubClass` feature is\n",
    "# read as an `int` type, but is actually a (nominative) categorical.\n",
    "\n",
    "# The nominative (unordered) categorical features\n",
    "features_nom = [\"MSSubClass\", \"MSZoning\", \"Street\", \"Alley\", \"LandContour\", \"LotConfig\", \"Neighborhood\", \"Condition1\", \"Condition2\", \"BldgType\", \"HouseStyle\", \"RoofStyle\", \"RoofMatl\", \"Exterior1st\", \"Exterior2nd\", \"MasVnrType\", \"Foundation\", \"Heating\", \"CentralAir\", \"GarageType\", \"MiscFeature\", \"SaleType\", \"SaleCondition\"]\n",
    "\n",
    "\n",
    "# The ordinal (ordered) categorical features \n",
    "\n",
    "# Pandas calls the categories \"levels\"\n",
    "five_levels = [\"Po\", \"Fa\", \"TA\", \"Gd\", \"Ex\"]\n",
    "ten_levels = list(range(10))\n",
    "\n",
    "ordered_levels = {\n",
    "    \"OverallQual\": ten_levels,\n",
    "    \"OverallCond\": ten_levels,\n",
    "    \"ExterQual\": five_levels,\n",
    "    \"ExterCond\": five_levels,\n",
    "    \"BsmtQual\": five_levels,\n",
    "    \"BsmtCond\": five_levels,\n",
    "    \"HeatingQC\": five_levels,\n",
    "    \"KitchenQual\": five_levels,\n",
    "    \"FireplaceQu\": five_levels,\n",
    "    \"GarageQual\": five_levels,\n",
    "    \"GarageCond\": five_levels,\n",
    "    \"PoolQC\": five_levels,\n",
    "    \"LotShape\": [\"Reg\", \"IR1\", \"IR2\", \"IR3\"],\n",
    "    \"LandSlope\": [\"Sev\", \"Mod\", \"Gtl\"],\n",
    "    \"BsmtExposure\": [\"No\", \"Mn\", \"Av\", \"Gd\"],\n",
    "    \"BsmtFinType1\": [\"Unf\", \"LwQ\", \"Rec\", \"BLQ\", \"ALQ\", \"GLQ\"],\n",
    "    \"BsmtFinType2\": [\"Unf\", \"LwQ\", \"Rec\", \"BLQ\", \"ALQ\", \"GLQ\"],\n",
    "    \"Functional\": [\"Sal\", \"Sev\", \"Maj1\", \"Maj2\", \"Mod\", \"Min2\", \"Min1\", \"Typ\"],\n",
    "    \"GarageFinish\": [\"Unf\", \"RFn\", \"Fin\"],\n",
    "    \"PavedDrive\": [\"N\", \"P\", \"Y\"],\n",
    "    \"Utilities\": [\"NoSeWa\", \"NoSewr\", \"AllPub\"],\n",
    "    \"CentralAir\": [\"N\", \"Y\"],\n",
    "    \"Electrical\": [\"Mix\", \"FuseP\", \"FuseF\", \"FuseA\", \"SBrkr\"],\n",
    "    \"Fence\": [\"MnWw\", \"GdWo\", \"MnPrv\", \"GdPrv\"],\n",
    "}\n",
    "\n",
    "# Add a None level for missing values\n",
    "ordered_levels = {key: [\"None\"] + value for key, value in\n",
    "                  ordered_levels.items()}\n",
    "\n",
    "\n",
    "def encode(df):\n",
    "    # Nominal categories\n",
    "    for name in features_nom:\n",
    "        df[name] = df[name].astype(\"category\")\n",
    "        # Add a None category for missing values\n",
    "        if \"None\" not in df[name].cat.categories:\n",
    "            df[name].cat.add_categories(\"None\", inplace=True)\n",
    "    # Ordinal categories\n",
    "    for name, levels in ordered_levels.items():\n",
    "        df[name] = df[name].astype(CategoricalDtype(levels,\n",
    "                                                    ordered=True))\n",
    "    return df\n"
   ]
  },
  {
   "cell_type": "markdown",
   "id": "4f73216e",
   "metadata": {
    "papermill": {
     "duration": 0.010046,
     "end_time": "2022-07-04T11:14:17.258139",
     "exception": false,
     "start_time": "2022-07-04T11:14:17.248093",
     "status": "completed"
    },
    "tags": []
   },
   "source": [
    "### Handle Missing Values ###\n",
    "\n",
    "Handling missing values now will make the feature engineering go more smoothly. We'll impute `0` for missing numeric values and `\"None\"` for missing categorical values. You might like to experiment with other imputation strategies. In particular, you could try creating \"missing value\" indicators: `1` whenever a value was imputed and `0` otherwise."
   ]
  },
  {
   "cell_type": "code",
   "execution_count": 9,
   "id": "f51f6fe2",
   "metadata": {
    "execution": {
     "iopub.execute_input": "2022-07-04T11:14:17.281204Z",
     "iopub.status.busy": "2022-07-04T11:14:17.280837Z",
     "iopub.status.idle": "2022-07-04T11:14:17.286787Z",
     "shell.execute_reply": "2022-07-04T11:14:17.285594Z"
    },
    "papermill": {
     "duration": 0.020539,
     "end_time": "2022-07-04T11:14:17.289243",
     "exception": false,
     "start_time": "2022-07-04T11:14:17.268704",
     "status": "completed"
    },
    "tags": []
   },
   "outputs": [],
   "source": [
    "def impute(df):\n",
    "    for name in df.select_dtypes(\"number\"):\n",
    "        df[name] = df[name].fillna(0)\n",
    "    for name in df.select_dtypes(\"category\"):\n",
    "        df[name] = df[name].fillna(\"None\")\n",
    "    return df\n"
   ]
  },
  {
   "cell_type": "markdown",
   "id": "d515e99d",
   "metadata": {
    "papermill": {
     "duration": 0.009891,
     "end_time": "2022-07-04T11:14:17.309599",
     "exception": false,
     "start_time": "2022-07-04T11:14:17.299708",
     "status": "completed"
    },
    "tags": []
   },
   "source": [
    "## Load Data ##\n",
    "\n",
    "And now we can call the data loader and get the processed data splits:"
   ]
  },
  {
   "cell_type": "code",
   "execution_count": 10,
   "id": "1c4f7bbb",
   "metadata": {
    "execution": {
     "iopub.execute_input": "2022-07-04T11:14:17.331929Z",
     "iopub.status.busy": "2022-07-04T11:14:17.331567Z",
     "iopub.status.idle": "2022-07-04T11:14:17.512138Z",
     "shell.execute_reply": "2022-07-04T11:14:17.511094Z"
    },
    "papermill": {
     "duration": 0.195053,
     "end_time": "2022-07-04T11:14:17.514832",
     "exception": false,
     "start_time": "2022-07-04T11:14:17.319779",
     "status": "completed"
    },
    "tags": []
   },
   "outputs": [],
   "source": [
    "df_train, df_test = load_data()"
   ]
  },
  {
   "cell_type": "markdown",
   "id": "01d8a740",
   "metadata": {
    "papermill": {
     "duration": 0.010215,
     "end_time": "2022-07-04T11:14:17.535476",
     "exception": false,
     "start_time": "2022-07-04T11:14:17.525261",
     "status": "completed"
    },
    "tags": []
   },
   "source": [
    "Uncomment and run this cell if you'd like to see what they contain. Notice that `df_test` is\n",
    "missing values for `SalePrice`. (`NA`s were willed with 0's in the imputation step.)"
   ]
  },
  {
   "cell_type": "code",
   "execution_count": 11,
   "id": "a339c8ca",
   "metadata": {
    "execution": {
     "iopub.execute_input": "2022-07-04T11:14:17.558437Z",
     "iopub.status.busy": "2022-07-04T11:14:17.558016Z",
     "iopub.status.idle": "2022-07-04T11:14:17.690721Z",
     "shell.execute_reply": "2022-07-04T11:14:17.689511Z"
    },
    "papermill": {
     "duration": 0.147355,
     "end_time": "2022-07-04T11:14:17.693541",
     "exception": false,
     "start_time": "2022-07-04T11:14:17.546186",
     "status": "completed"
    },
    "tags": []
   },
   "outputs": [
    {
     "data": {
      "text/html": [
       "<div>\n",
       "<style scoped>\n",
       "    .dataframe tbody tr th:only-of-type {\n",
       "        vertical-align: middle;\n",
       "    }\n",
       "\n",
       "    .dataframe tbody tr th {\n",
       "        vertical-align: top;\n",
       "    }\n",
       "\n",
       "    .dataframe thead th {\n",
       "        text-align: right;\n",
       "    }\n",
       "</style>\n",
       "<table border=\"1\" class=\"dataframe\">\n",
       "  <thead>\n",
       "    <tr style=\"text-align: right;\">\n",
       "      <th></th>\n",
       "      <th>MSSubClass</th>\n",
       "      <th>MSZoning</th>\n",
       "      <th>LotFrontage</th>\n",
       "      <th>LotArea</th>\n",
       "      <th>Street</th>\n",
       "      <th>Alley</th>\n",
       "      <th>LotShape</th>\n",
       "      <th>LandContour</th>\n",
       "      <th>Utilities</th>\n",
       "      <th>LotConfig</th>\n",
       "      <th>...</th>\n",
       "      <th>PoolArea</th>\n",
       "      <th>PoolQC</th>\n",
       "      <th>Fence</th>\n",
       "      <th>MiscFeature</th>\n",
       "      <th>MiscVal</th>\n",
       "      <th>MoSold</th>\n",
       "      <th>YrSold</th>\n",
       "      <th>SaleType</th>\n",
       "      <th>SaleCondition</th>\n",
       "      <th>SalePrice</th>\n",
       "    </tr>\n",
       "    <tr>\n",
       "      <th>Id</th>\n",
       "      <th></th>\n",
       "      <th></th>\n",
       "      <th></th>\n",
       "      <th></th>\n",
       "      <th></th>\n",
       "      <th></th>\n",
       "      <th></th>\n",
       "      <th></th>\n",
       "      <th></th>\n",
       "      <th></th>\n",
       "      <th></th>\n",
       "      <th></th>\n",
       "      <th></th>\n",
       "      <th></th>\n",
       "      <th></th>\n",
       "      <th></th>\n",
       "      <th></th>\n",
       "      <th></th>\n",
       "      <th></th>\n",
       "      <th></th>\n",
       "      <th></th>\n",
       "    </tr>\n",
       "  </thead>\n",
       "  <tbody>\n",
       "    <tr>\n",
       "      <th>1</th>\n",
       "      <td>60</td>\n",
       "      <td>RL</td>\n",
       "      <td>65.0</td>\n",
       "      <td>8450</td>\n",
       "      <td>Pave</td>\n",
       "      <td>None</td>\n",
       "      <td>Reg</td>\n",
       "      <td>Lvl</td>\n",
       "      <td>AllPub</td>\n",
       "      <td>Inside</td>\n",
       "      <td>...</td>\n",
       "      <td>0</td>\n",
       "      <td>None</td>\n",
       "      <td>None</td>\n",
       "      <td>None</td>\n",
       "      <td>0</td>\n",
       "      <td>2</td>\n",
       "      <td>2008</td>\n",
       "      <td>WD</td>\n",
       "      <td>Normal</td>\n",
       "      <td>208500.0</td>\n",
       "    </tr>\n",
       "    <tr>\n",
       "      <th>2</th>\n",
       "      <td>20</td>\n",
       "      <td>RL</td>\n",
       "      <td>80.0</td>\n",
       "      <td>9600</td>\n",
       "      <td>Pave</td>\n",
       "      <td>None</td>\n",
       "      <td>Reg</td>\n",
       "      <td>Lvl</td>\n",
       "      <td>AllPub</td>\n",
       "      <td>FR2</td>\n",
       "      <td>...</td>\n",
       "      <td>0</td>\n",
       "      <td>None</td>\n",
       "      <td>None</td>\n",
       "      <td>None</td>\n",
       "      <td>0</td>\n",
       "      <td>5</td>\n",
       "      <td>2007</td>\n",
       "      <td>WD</td>\n",
       "      <td>Normal</td>\n",
       "      <td>181500.0</td>\n",
       "    </tr>\n",
       "    <tr>\n",
       "      <th>3</th>\n",
       "      <td>60</td>\n",
       "      <td>RL</td>\n",
       "      <td>68.0</td>\n",
       "      <td>11250</td>\n",
       "      <td>Pave</td>\n",
       "      <td>None</td>\n",
       "      <td>IR1</td>\n",
       "      <td>Lvl</td>\n",
       "      <td>AllPub</td>\n",
       "      <td>Inside</td>\n",
       "      <td>...</td>\n",
       "      <td>0</td>\n",
       "      <td>None</td>\n",
       "      <td>None</td>\n",
       "      <td>None</td>\n",
       "      <td>0</td>\n",
       "      <td>9</td>\n",
       "      <td>2008</td>\n",
       "      <td>WD</td>\n",
       "      <td>Normal</td>\n",
       "      <td>223500.0</td>\n",
       "    </tr>\n",
       "    <tr>\n",
       "      <th>4</th>\n",
       "      <td>70</td>\n",
       "      <td>RL</td>\n",
       "      <td>60.0</td>\n",
       "      <td>9550</td>\n",
       "      <td>Pave</td>\n",
       "      <td>None</td>\n",
       "      <td>IR1</td>\n",
       "      <td>Lvl</td>\n",
       "      <td>AllPub</td>\n",
       "      <td>Corner</td>\n",
       "      <td>...</td>\n",
       "      <td>0</td>\n",
       "      <td>None</td>\n",
       "      <td>None</td>\n",
       "      <td>None</td>\n",
       "      <td>0</td>\n",
       "      <td>2</td>\n",
       "      <td>2006</td>\n",
       "      <td>WD</td>\n",
       "      <td>Abnorml</td>\n",
       "      <td>140000.0</td>\n",
       "    </tr>\n",
       "    <tr>\n",
       "      <th>5</th>\n",
       "      <td>60</td>\n",
       "      <td>RL</td>\n",
       "      <td>84.0</td>\n",
       "      <td>14260</td>\n",
       "      <td>Pave</td>\n",
       "      <td>None</td>\n",
       "      <td>IR1</td>\n",
       "      <td>Lvl</td>\n",
       "      <td>AllPub</td>\n",
       "      <td>FR2</td>\n",
       "      <td>...</td>\n",
       "      <td>0</td>\n",
       "      <td>None</td>\n",
       "      <td>None</td>\n",
       "      <td>None</td>\n",
       "      <td>0</td>\n",
       "      <td>12</td>\n",
       "      <td>2008</td>\n",
       "      <td>WD</td>\n",
       "      <td>Normal</td>\n",
       "      <td>250000.0</td>\n",
       "    </tr>\n",
       "    <tr>\n",
       "      <th>...</th>\n",
       "      <td>...</td>\n",
       "      <td>...</td>\n",
       "      <td>...</td>\n",
       "      <td>...</td>\n",
       "      <td>...</td>\n",
       "      <td>...</td>\n",
       "      <td>...</td>\n",
       "      <td>...</td>\n",
       "      <td>...</td>\n",
       "      <td>...</td>\n",
       "      <td>...</td>\n",
       "      <td>...</td>\n",
       "      <td>...</td>\n",
       "      <td>...</td>\n",
       "      <td>...</td>\n",
       "      <td>...</td>\n",
       "      <td>...</td>\n",
       "      <td>...</td>\n",
       "      <td>...</td>\n",
       "      <td>...</td>\n",
       "      <td>...</td>\n",
       "    </tr>\n",
       "    <tr>\n",
       "      <th>1456</th>\n",
       "      <td>60</td>\n",
       "      <td>RL</td>\n",
       "      <td>62.0</td>\n",
       "      <td>7917</td>\n",
       "      <td>Pave</td>\n",
       "      <td>None</td>\n",
       "      <td>Reg</td>\n",
       "      <td>Lvl</td>\n",
       "      <td>AllPub</td>\n",
       "      <td>Inside</td>\n",
       "      <td>...</td>\n",
       "      <td>0</td>\n",
       "      <td>None</td>\n",
       "      <td>None</td>\n",
       "      <td>None</td>\n",
       "      <td>0</td>\n",
       "      <td>8</td>\n",
       "      <td>2007</td>\n",
       "      <td>WD</td>\n",
       "      <td>Normal</td>\n",
       "      <td>175000.0</td>\n",
       "    </tr>\n",
       "    <tr>\n",
       "      <th>1457</th>\n",
       "      <td>20</td>\n",
       "      <td>RL</td>\n",
       "      <td>85.0</td>\n",
       "      <td>13175</td>\n",
       "      <td>Pave</td>\n",
       "      <td>None</td>\n",
       "      <td>Reg</td>\n",
       "      <td>Lvl</td>\n",
       "      <td>AllPub</td>\n",
       "      <td>Inside</td>\n",
       "      <td>...</td>\n",
       "      <td>0</td>\n",
       "      <td>None</td>\n",
       "      <td>MnPrv</td>\n",
       "      <td>None</td>\n",
       "      <td>0</td>\n",
       "      <td>2</td>\n",
       "      <td>2010</td>\n",
       "      <td>WD</td>\n",
       "      <td>Normal</td>\n",
       "      <td>210000.0</td>\n",
       "    </tr>\n",
       "    <tr>\n",
       "      <th>1458</th>\n",
       "      <td>70</td>\n",
       "      <td>RL</td>\n",
       "      <td>66.0</td>\n",
       "      <td>9042</td>\n",
       "      <td>Pave</td>\n",
       "      <td>None</td>\n",
       "      <td>Reg</td>\n",
       "      <td>Lvl</td>\n",
       "      <td>AllPub</td>\n",
       "      <td>Inside</td>\n",
       "      <td>...</td>\n",
       "      <td>0</td>\n",
       "      <td>None</td>\n",
       "      <td>GdPrv</td>\n",
       "      <td>Shed</td>\n",
       "      <td>2500</td>\n",
       "      <td>5</td>\n",
       "      <td>2010</td>\n",
       "      <td>WD</td>\n",
       "      <td>Normal</td>\n",
       "      <td>266500.0</td>\n",
       "    </tr>\n",
       "    <tr>\n",
       "      <th>1459</th>\n",
       "      <td>20</td>\n",
       "      <td>RL</td>\n",
       "      <td>68.0</td>\n",
       "      <td>9717</td>\n",
       "      <td>Pave</td>\n",
       "      <td>None</td>\n",
       "      <td>Reg</td>\n",
       "      <td>Lvl</td>\n",
       "      <td>AllPub</td>\n",
       "      <td>Inside</td>\n",
       "      <td>...</td>\n",
       "      <td>0</td>\n",
       "      <td>None</td>\n",
       "      <td>None</td>\n",
       "      <td>None</td>\n",
       "      <td>0</td>\n",
       "      <td>4</td>\n",
       "      <td>2010</td>\n",
       "      <td>WD</td>\n",
       "      <td>Normal</td>\n",
       "      <td>142125.0</td>\n",
       "    </tr>\n",
       "    <tr>\n",
       "      <th>1460</th>\n",
       "      <td>20</td>\n",
       "      <td>RL</td>\n",
       "      <td>75.0</td>\n",
       "      <td>9937</td>\n",
       "      <td>Pave</td>\n",
       "      <td>None</td>\n",
       "      <td>Reg</td>\n",
       "      <td>Lvl</td>\n",
       "      <td>AllPub</td>\n",
       "      <td>Inside</td>\n",
       "      <td>...</td>\n",
       "      <td>0</td>\n",
       "      <td>None</td>\n",
       "      <td>None</td>\n",
       "      <td>None</td>\n",
       "      <td>0</td>\n",
       "      <td>6</td>\n",
       "      <td>2008</td>\n",
       "      <td>WD</td>\n",
       "      <td>Normal</td>\n",
       "      <td>147500.0</td>\n",
       "    </tr>\n",
       "  </tbody>\n",
       "</table>\n",
       "<p>1460 rows × 80 columns</p>\n",
       "</div>"
      ],
      "text/plain": [
       "     MSSubClass MSZoning  LotFrontage  LotArea Street Alley LotShape  \\\n",
       "Id                                                                     \n",
       "1            60       RL         65.0     8450   Pave  None      Reg   \n",
       "2            20       RL         80.0     9600   Pave  None      Reg   \n",
       "3            60       RL         68.0    11250   Pave  None      IR1   \n",
       "4            70       RL         60.0     9550   Pave  None      IR1   \n",
       "5            60       RL         84.0    14260   Pave  None      IR1   \n",
       "...         ...      ...          ...      ...    ...   ...      ...   \n",
       "1456         60       RL         62.0     7917   Pave  None      Reg   \n",
       "1457         20       RL         85.0    13175   Pave  None      Reg   \n",
       "1458         70       RL         66.0     9042   Pave  None      Reg   \n",
       "1459         20       RL         68.0     9717   Pave  None      Reg   \n",
       "1460         20       RL         75.0     9937   Pave  None      Reg   \n",
       "\n",
       "     LandContour Utilities LotConfig  ... PoolArea PoolQC  Fence MiscFeature  \\\n",
       "Id                                    ...                                      \n",
       "1            Lvl    AllPub    Inside  ...        0   None   None        None   \n",
       "2            Lvl    AllPub       FR2  ...        0   None   None        None   \n",
       "3            Lvl    AllPub    Inside  ...        0   None   None        None   \n",
       "4            Lvl    AllPub    Corner  ...        0   None   None        None   \n",
       "5            Lvl    AllPub       FR2  ...        0   None   None        None   \n",
       "...          ...       ...       ...  ...      ...    ...    ...         ...   \n",
       "1456         Lvl    AllPub    Inside  ...        0   None   None        None   \n",
       "1457         Lvl    AllPub    Inside  ...        0   None  MnPrv        None   \n",
       "1458         Lvl    AllPub    Inside  ...        0   None  GdPrv        Shed   \n",
       "1459         Lvl    AllPub    Inside  ...        0   None   None        None   \n",
       "1460         Lvl    AllPub    Inside  ...        0   None   None        None   \n",
       "\n",
       "     MiscVal MoSold YrSold SaleType  SaleCondition  SalePrice  \n",
       "Id                                                             \n",
       "1          0      2   2008       WD         Normal   208500.0  \n",
       "2          0      5   2007       WD         Normal   181500.0  \n",
       "3          0      9   2008       WD         Normal   223500.0  \n",
       "4          0      2   2006       WD        Abnorml   140000.0  \n",
       "5          0     12   2008       WD         Normal   250000.0  \n",
       "...      ...    ...    ...      ...            ...        ...  \n",
       "1456       0      8   2007       WD         Normal   175000.0  \n",
       "1457       0      2   2010       WD         Normal   210000.0  \n",
       "1458    2500      5   2010       WD         Normal   266500.0  \n",
       "1459       0      4   2010       WD         Normal   142125.0  \n",
       "1460       0      6   2008       WD         Normal   147500.0  \n",
       "\n",
       "[1460 rows x 80 columns]"
      ]
     },
     "metadata": {},
     "output_type": "display_data"
    },
    {
     "data": {
      "text/html": [
       "<div>\n",
       "<style scoped>\n",
       "    .dataframe tbody tr th:only-of-type {\n",
       "        vertical-align: middle;\n",
       "    }\n",
       "\n",
       "    .dataframe tbody tr th {\n",
       "        vertical-align: top;\n",
       "    }\n",
       "\n",
       "    .dataframe thead th {\n",
       "        text-align: right;\n",
       "    }\n",
       "</style>\n",
       "<table border=\"1\" class=\"dataframe\">\n",
       "  <thead>\n",
       "    <tr style=\"text-align: right;\">\n",
       "      <th></th>\n",
       "      <th>MSSubClass</th>\n",
       "      <th>MSZoning</th>\n",
       "      <th>LotFrontage</th>\n",
       "      <th>LotArea</th>\n",
       "      <th>Street</th>\n",
       "      <th>Alley</th>\n",
       "      <th>LotShape</th>\n",
       "      <th>LandContour</th>\n",
       "      <th>Utilities</th>\n",
       "      <th>LotConfig</th>\n",
       "      <th>...</th>\n",
       "      <th>PoolArea</th>\n",
       "      <th>PoolQC</th>\n",
       "      <th>Fence</th>\n",
       "      <th>MiscFeature</th>\n",
       "      <th>MiscVal</th>\n",
       "      <th>MoSold</th>\n",
       "      <th>YrSold</th>\n",
       "      <th>SaleType</th>\n",
       "      <th>SaleCondition</th>\n",
       "      <th>SalePrice</th>\n",
       "    </tr>\n",
       "    <tr>\n",
       "      <th>Id</th>\n",
       "      <th></th>\n",
       "      <th></th>\n",
       "      <th></th>\n",
       "      <th></th>\n",
       "      <th></th>\n",
       "      <th></th>\n",
       "      <th></th>\n",
       "      <th></th>\n",
       "      <th></th>\n",
       "      <th></th>\n",
       "      <th></th>\n",
       "      <th></th>\n",
       "      <th></th>\n",
       "      <th></th>\n",
       "      <th></th>\n",
       "      <th></th>\n",
       "      <th></th>\n",
       "      <th></th>\n",
       "      <th></th>\n",
       "      <th></th>\n",
       "      <th></th>\n",
       "    </tr>\n",
       "  </thead>\n",
       "  <tbody>\n",
       "    <tr>\n",
       "      <th>1461</th>\n",
       "      <td>20</td>\n",
       "      <td>RH</td>\n",
       "      <td>80.0</td>\n",
       "      <td>11622</td>\n",
       "      <td>Pave</td>\n",
       "      <td>None</td>\n",
       "      <td>Reg</td>\n",
       "      <td>Lvl</td>\n",
       "      <td>AllPub</td>\n",
       "      <td>Inside</td>\n",
       "      <td>...</td>\n",
       "      <td>0</td>\n",
       "      <td>None</td>\n",
       "      <td>MnPrv</td>\n",
       "      <td>None</td>\n",
       "      <td>0</td>\n",
       "      <td>6</td>\n",
       "      <td>2010</td>\n",
       "      <td>WD</td>\n",
       "      <td>Normal</td>\n",
       "      <td>0.0</td>\n",
       "    </tr>\n",
       "    <tr>\n",
       "      <th>1462</th>\n",
       "      <td>20</td>\n",
       "      <td>RL</td>\n",
       "      <td>81.0</td>\n",
       "      <td>14267</td>\n",
       "      <td>Pave</td>\n",
       "      <td>None</td>\n",
       "      <td>IR1</td>\n",
       "      <td>Lvl</td>\n",
       "      <td>AllPub</td>\n",
       "      <td>Corner</td>\n",
       "      <td>...</td>\n",
       "      <td>0</td>\n",
       "      <td>None</td>\n",
       "      <td>None</td>\n",
       "      <td>Gar2</td>\n",
       "      <td>12500</td>\n",
       "      <td>6</td>\n",
       "      <td>2010</td>\n",
       "      <td>WD</td>\n",
       "      <td>Normal</td>\n",
       "      <td>0.0</td>\n",
       "    </tr>\n",
       "    <tr>\n",
       "      <th>1463</th>\n",
       "      <td>60</td>\n",
       "      <td>RL</td>\n",
       "      <td>74.0</td>\n",
       "      <td>13830</td>\n",
       "      <td>Pave</td>\n",
       "      <td>None</td>\n",
       "      <td>IR1</td>\n",
       "      <td>Lvl</td>\n",
       "      <td>AllPub</td>\n",
       "      <td>Inside</td>\n",
       "      <td>...</td>\n",
       "      <td>0</td>\n",
       "      <td>None</td>\n",
       "      <td>MnPrv</td>\n",
       "      <td>None</td>\n",
       "      <td>0</td>\n",
       "      <td>3</td>\n",
       "      <td>2010</td>\n",
       "      <td>WD</td>\n",
       "      <td>Normal</td>\n",
       "      <td>0.0</td>\n",
       "    </tr>\n",
       "    <tr>\n",
       "      <th>1464</th>\n",
       "      <td>60</td>\n",
       "      <td>RL</td>\n",
       "      <td>78.0</td>\n",
       "      <td>9978</td>\n",
       "      <td>Pave</td>\n",
       "      <td>None</td>\n",
       "      <td>IR1</td>\n",
       "      <td>Lvl</td>\n",
       "      <td>AllPub</td>\n",
       "      <td>Inside</td>\n",
       "      <td>...</td>\n",
       "      <td>0</td>\n",
       "      <td>None</td>\n",
       "      <td>None</td>\n",
       "      <td>None</td>\n",
       "      <td>0</td>\n",
       "      <td>6</td>\n",
       "      <td>2010</td>\n",
       "      <td>WD</td>\n",
       "      <td>Normal</td>\n",
       "      <td>0.0</td>\n",
       "    </tr>\n",
       "    <tr>\n",
       "      <th>1465</th>\n",
       "      <td>120</td>\n",
       "      <td>RL</td>\n",
       "      <td>43.0</td>\n",
       "      <td>5005</td>\n",
       "      <td>Pave</td>\n",
       "      <td>None</td>\n",
       "      <td>IR1</td>\n",
       "      <td>HLS</td>\n",
       "      <td>AllPub</td>\n",
       "      <td>Inside</td>\n",
       "      <td>...</td>\n",
       "      <td>0</td>\n",
       "      <td>None</td>\n",
       "      <td>None</td>\n",
       "      <td>None</td>\n",
       "      <td>0</td>\n",
       "      <td>1</td>\n",
       "      <td>2010</td>\n",
       "      <td>WD</td>\n",
       "      <td>Normal</td>\n",
       "      <td>0.0</td>\n",
       "    </tr>\n",
       "    <tr>\n",
       "      <th>...</th>\n",
       "      <td>...</td>\n",
       "      <td>...</td>\n",
       "      <td>...</td>\n",
       "      <td>...</td>\n",
       "      <td>...</td>\n",
       "      <td>...</td>\n",
       "      <td>...</td>\n",
       "      <td>...</td>\n",
       "      <td>...</td>\n",
       "      <td>...</td>\n",
       "      <td>...</td>\n",
       "      <td>...</td>\n",
       "      <td>...</td>\n",
       "      <td>...</td>\n",
       "      <td>...</td>\n",
       "      <td>...</td>\n",
       "      <td>...</td>\n",
       "      <td>...</td>\n",
       "      <td>...</td>\n",
       "      <td>...</td>\n",
       "      <td>...</td>\n",
       "    </tr>\n",
       "    <tr>\n",
       "      <th>2915</th>\n",
       "      <td>160</td>\n",
       "      <td>RM</td>\n",
       "      <td>21.0</td>\n",
       "      <td>1936</td>\n",
       "      <td>Pave</td>\n",
       "      <td>None</td>\n",
       "      <td>Reg</td>\n",
       "      <td>Lvl</td>\n",
       "      <td>AllPub</td>\n",
       "      <td>Inside</td>\n",
       "      <td>...</td>\n",
       "      <td>0</td>\n",
       "      <td>None</td>\n",
       "      <td>None</td>\n",
       "      <td>None</td>\n",
       "      <td>0</td>\n",
       "      <td>6</td>\n",
       "      <td>2006</td>\n",
       "      <td>WD</td>\n",
       "      <td>Normal</td>\n",
       "      <td>0.0</td>\n",
       "    </tr>\n",
       "    <tr>\n",
       "      <th>2916</th>\n",
       "      <td>160</td>\n",
       "      <td>RM</td>\n",
       "      <td>21.0</td>\n",
       "      <td>1894</td>\n",
       "      <td>Pave</td>\n",
       "      <td>None</td>\n",
       "      <td>Reg</td>\n",
       "      <td>Lvl</td>\n",
       "      <td>AllPub</td>\n",
       "      <td>Inside</td>\n",
       "      <td>...</td>\n",
       "      <td>0</td>\n",
       "      <td>None</td>\n",
       "      <td>None</td>\n",
       "      <td>None</td>\n",
       "      <td>0</td>\n",
       "      <td>4</td>\n",
       "      <td>2006</td>\n",
       "      <td>WD</td>\n",
       "      <td>Abnorml</td>\n",
       "      <td>0.0</td>\n",
       "    </tr>\n",
       "    <tr>\n",
       "      <th>2917</th>\n",
       "      <td>20</td>\n",
       "      <td>RL</td>\n",
       "      <td>160.0</td>\n",
       "      <td>20000</td>\n",
       "      <td>Pave</td>\n",
       "      <td>None</td>\n",
       "      <td>Reg</td>\n",
       "      <td>Lvl</td>\n",
       "      <td>AllPub</td>\n",
       "      <td>Inside</td>\n",
       "      <td>...</td>\n",
       "      <td>0</td>\n",
       "      <td>None</td>\n",
       "      <td>None</td>\n",
       "      <td>None</td>\n",
       "      <td>0</td>\n",
       "      <td>9</td>\n",
       "      <td>2006</td>\n",
       "      <td>WD</td>\n",
       "      <td>Abnorml</td>\n",
       "      <td>0.0</td>\n",
       "    </tr>\n",
       "    <tr>\n",
       "      <th>2918</th>\n",
       "      <td>85</td>\n",
       "      <td>RL</td>\n",
       "      <td>62.0</td>\n",
       "      <td>10441</td>\n",
       "      <td>Pave</td>\n",
       "      <td>None</td>\n",
       "      <td>Reg</td>\n",
       "      <td>Lvl</td>\n",
       "      <td>AllPub</td>\n",
       "      <td>Inside</td>\n",
       "      <td>...</td>\n",
       "      <td>0</td>\n",
       "      <td>None</td>\n",
       "      <td>MnPrv</td>\n",
       "      <td>Shed</td>\n",
       "      <td>700</td>\n",
       "      <td>7</td>\n",
       "      <td>2006</td>\n",
       "      <td>WD</td>\n",
       "      <td>Normal</td>\n",
       "      <td>0.0</td>\n",
       "    </tr>\n",
       "    <tr>\n",
       "      <th>2919</th>\n",
       "      <td>60</td>\n",
       "      <td>RL</td>\n",
       "      <td>74.0</td>\n",
       "      <td>9627</td>\n",
       "      <td>Pave</td>\n",
       "      <td>None</td>\n",
       "      <td>Reg</td>\n",
       "      <td>Lvl</td>\n",
       "      <td>AllPub</td>\n",
       "      <td>Inside</td>\n",
       "      <td>...</td>\n",
       "      <td>0</td>\n",
       "      <td>None</td>\n",
       "      <td>None</td>\n",
       "      <td>None</td>\n",
       "      <td>0</td>\n",
       "      <td>11</td>\n",
       "      <td>2006</td>\n",
       "      <td>WD</td>\n",
       "      <td>Normal</td>\n",
       "      <td>0.0</td>\n",
       "    </tr>\n",
       "  </tbody>\n",
       "</table>\n",
       "<p>1459 rows × 80 columns</p>\n",
       "</div>"
      ],
      "text/plain": [
       "     MSSubClass MSZoning  LotFrontage  LotArea Street Alley LotShape  \\\n",
       "Id                                                                     \n",
       "1461         20       RH         80.0    11622   Pave  None      Reg   \n",
       "1462         20       RL         81.0    14267   Pave  None      IR1   \n",
       "1463         60       RL         74.0    13830   Pave  None      IR1   \n",
       "1464         60       RL         78.0     9978   Pave  None      IR1   \n",
       "1465        120       RL         43.0     5005   Pave  None      IR1   \n",
       "...         ...      ...          ...      ...    ...   ...      ...   \n",
       "2915        160       RM         21.0     1936   Pave  None      Reg   \n",
       "2916        160       RM         21.0     1894   Pave  None      Reg   \n",
       "2917         20       RL        160.0    20000   Pave  None      Reg   \n",
       "2918         85       RL         62.0    10441   Pave  None      Reg   \n",
       "2919         60       RL         74.0     9627   Pave  None      Reg   \n",
       "\n",
       "     LandContour Utilities LotConfig  ... PoolArea PoolQC  Fence MiscFeature  \\\n",
       "Id                                    ...                                      \n",
       "1461         Lvl    AllPub    Inside  ...        0   None  MnPrv        None   \n",
       "1462         Lvl    AllPub    Corner  ...        0   None   None        Gar2   \n",
       "1463         Lvl    AllPub    Inside  ...        0   None  MnPrv        None   \n",
       "1464         Lvl    AllPub    Inside  ...        0   None   None        None   \n",
       "1465         HLS    AllPub    Inside  ...        0   None   None        None   \n",
       "...          ...       ...       ...  ...      ...    ...    ...         ...   \n",
       "2915         Lvl    AllPub    Inside  ...        0   None   None        None   \n",
       "2916         Lvl    AllPub    Inside  ...        0   None   None        None   \n",
       "2917         Lvl    AllPub    Inside  ...        0   None   None        None   \n",
       "2918         Lvl    AllPub    Inside  ...        0   None  MnPrv        Shed   \n",
       "2919         Lvl    AllPub    Inside  ...        0   None   None        None   \n",
       "\n",
       "     MiscVal MoSold YrSold SaleType  SaleCondition  SalePrice  \n",
       "Id                                                             \n",
       "1461       0      6   2010       WD         Normal        0.0  \n",
       "1462   12500      6   2010       WD         Normal        0.0  \n",
       "1463       0      3   2010       WD         Normal        0.0  \n",
       "1464       0      6   2010       WD         Normal        0.0  \n",
       "1465       0      1   2010       WD         Normal        0.0  \n",
       "...      ...    ...    ...      ...            ...        ...  \n",
       "2915       0      6   2006       WD         Normal        0.0  \n",
       "2916       0      4   2006       WD        Abnorml        0.0  \n",
       "2917       0      9   2006       WD        Abnorml        0.0  \n",
       "2918     700      7   2006       WD         Normal        0.0  \n",
       "2919       0     11   2006       WD         Normal        0.0  \n",
       "\n",
       "[1459 rows x 80 columns]"
      ]
     },
     "metadata": {},
     "output_type": "display_data"
    },
    {
     "name": "stdout",
     "output_type": "stream",
     "text": [
      "<class 'pandas.core.frame.DataFrame'>\n",
      "Int64Index: 1460 entries, 1 to 1460\n",
      "Data columns (total 80 columns):\n",
      " #   Column            Non-Null Count  Dtype   \n",
      "---  ------            --------------  -----   \n",
      " 0   MSSubClass        1460 non-null   category\n",
      " 1   MSZoning          1460 non-null   category\n",
      " 2   LotFrontage       1460 non-null   float64 \n",
      " 3   LotArea           1460 non-null   int64   \n",
      " 4   Street            1460 non-null   category\n",
      " 5   Alley             1460 non-null   category\n",
      " 6   LotShape          1460 non-null   category\n",
      " 7   LandContour       1460 non-null   category\n",
      " 8   Utilities         1460 non-null   category\n",
      " 9   LotConfig         1460 non-null   category\n",
      " 10  LandSlope         1460 non-null   category\n",
      " 11  Neighborhood      1460 non-null   category\n",
      " 12  Condition1        1460 non-null   category\n",
      " 13  Condition2        1460 non-null   category\n",
      " 14  BldgType          1460 non-null   category\n",
      " 15  HouseStyle        1460 non-null   category\n",
      " 16  OverallQual       1460 non-null   category\n",
      " 17  OverallCond       1460 non-null   category\n",
      " 18  YearBuilt         1460 non-null   int64   \n",
      " 19  YearRemodAdd      1460 non-null   int64   \n",
      " 20  RoofStyle         1460 non-null   category\n",
      " 21  RoofMatl          1460 non-null   category\n",
      " 22  Exterior1st       1460 non-null   category\n",
      " 23  Exterior2nd       1460 non-null   category\n",
      " 24  MasVnrType        1460 non-null   category\n",
      " 25  MasVnrArea        1460 non-null   float64 \n",
      " 26  ExterQual         1460 non-null   category\n",
      " 27  ExterCond         1460 non-null   category\n",
      " 28  Foundation        1460 non-null   category\n",
      " 29  BsmtQual          1460 non-null   category\n",
      " 30  BsmtCond          1460 non-null   category\n",
      " 31  BsmtExposure      1460 non-null   category\n",
      " 32  BsmtFinType1      1460 non-null   category\n",
      " 33  BsmtFinSF1        1460 non-null   float64 \n",
      " 34  BsmtFinType2      1460 non-null   category\n",
      " 35  BsmtFinSF2        1460 non-null   float64 \n",
      " 36  BsmtUnfSF         1460 non-null   float64 \n",
      " 37  TotalBsmtSF       1460 non-null   float64 \n",
      " 38  Heating           1460 non-null   category\n",
      " 39  HeatingQC         1460 non-null   category\n",
      " 40  CentralAir        1460 non-null   category\n",
      " 41  Electrical        1460 non-null   category\n",
      " 42  FirstFlrSF        1460 non-null   int64   \n",
      " 43  SecondFlrSF       1460 non-null   int64   \n",
      " 44  LowQualFinSF      1460 non-null   int64   \n",
      " 45  GrLivArea         1460 non-null   int64   \n",
      " 46  BsmtFullBath      1460 non-null   float64 \n",
      " 47  BsmtHalfBath      1460 non-null   float64 \n",
      " 48  FullBath          1460 non-null   int64   \n",
      " 49  HalfBath          1460 non-null   int64   \n",
      " 50  BedroomAbvGr      1460 non-null   int64   \n",
      " 51  KitchenAbvGr      1460 non-null   int64   \n",
      " 52  KitchenQual       1460 non-null   category\n",
      " 53  TotRmsAbvGrd      1460 non-null   int64   \n",
      " 54  Functional        1460 non-null   category\n",
      " 55  Fireplaces        1460 non-null   int64   \n",
      " 56  FireplaceQu       1460 non-null   category\n",
      " 57  GarageType        1460 non-null   category\n",
      " 58  GarageYrBlt       1460 non-null   float64 \n",
      " 59  GarageFinish      1460 non-null   category\n",
      " 60  GarageCars        1460 non-null   float64 \n",
      " 61  GarageArea        1460 non-null   float64 \n",
      " 62  GarageQual        1460 non-null   category\n",
      " 63  GarageCond        1460 non-null   category\n",
      " 64  PavedDrive        1460 non-null   category\n",
      " 65  WoodDeckSF        1460 non-null   int64   \n",
      " 66  OpenPorchSF       1460 non-null   int64   \n",
      " 67  EnclosedPorch     1460 non-null   int64   \n",
      " 68  Threeseasonporch  1460 non-null   int64   \n",
      " 69  ScreenPorch       1460 non-null   int64   \n",
      " 70  PoolArea          1460 non-null   int64   \n",
      " 71  PoolQC            1460 non-null   category\n",
      " 72  Fence             1460 non-null   category\n",
      " 73  MiscFeature       1460 non-null   category\n",
      " 74  MiscVal           1460 non-null   int64   \n",
      " 75  MoSold            1460 non-null   int64   \n",
      " 76  YrSold            1460 non-null   int64   \n",
      " 77  SaleType          1460 non-null   category\n",
      " 78  SaleCondition     1460 non-null   category\n",
      " 79  SalePrice         1460 non-null   float64 \n",
      "dtypes: category(46), float64(12), int64(22)\n",
      "memory usage: 478.9 KB\n"
     ]
    },
    {
     "data": {
      "text/plain": [
       "None"
      ]
     },
     "metadata": {},
     "output_type": "display_data"
    },
    {
     "name": "stdout",
     "output_type": "stream",
     "text": [
      "<class 'pandas.core.frame.DataFrame'>\n",
      "Int64Index: 1459 entries, 1461 to 2919\n",
      "Data columns (total 80 columns):\n",
      " #   Column            Non-Null Count  Dtype   \n",
      "---  ------            --------------  -----   \n",
      " 0   MSSubClass        1459 non-null   category\n",
      " 1   MSZoning          1459 non-null   category\n",
      " 2   LotFrontage       1459 non-null   float64 \n",
      " 3   LotArea           1459 non-null   int64   \n",
      " 4   Street            1459 non-null   category\n",
      " 5   Alley             1459 non-null   category\n",
      " 6   LotShape          1459 non-null   category\n",
      " 7   LandContour       1459 non-null   category\n",
      " 8   Utilities         1459 non-null   category\n",
      " 9   LotConfig         1459 non-null   category\n",
      " 10  LandSlope         1459 non-null   category\n",
      " 11  Neighborhood      1459 non-null   category\n",
      " 12  Condition1        1459 non-null   category\n",
      " 13  Condition2        1459 non-null   category\n",
      " 14  BldgType          1459 non-null   category\n",
      " 15  HouseStyle        1459 non-null   category\n",
      " 16  OverallQual       1459 non-null   category\n",
      " 17  OverallCond       1459 non-null   category\n",
      " 18  YearBuilt         1459 non-null   int64   \n",
      " 19  YearRemodAdd      1459 non-null   int64   \n",
      " 20  RoofStyle         1459 non-null   category\n",
      " 21  RoofMatl          1459 non-null   category\n",
      " 22  Exterior1st       1459 non-null   category\n",
      " 23  Exterior2nd       1459 non-null   category\n",
      " 24  MasVnrType        1459 non-null   category\n",
      " 25  MasVnrArea        1459 non-null   float64 \n",
      " 26  ExterQual         1459 non-null   category\n",
      " 27  ExterCond         1459 non-null   category\n",
      " 28  Foundation        1459 non-null   category\n",
      " 29  BsmtQual          1459 non-null   category\n",
      " 30  BsmtCond          1459 non-null   category\n",
      " 31  BsmtExposure      1459 non-null   category\n",
      " 32  BsmtFinType1      1459 non-null   category\n",
      " 33  BsmtFinSF1        1459 non-null   float64 \n",
      " 34  BsmtFinType2      1459 non-null   category\n",
      " 35  BsmtFinSF2        1459 non-null   float64 \n",
      " 36  BsmtUnfSF         1459 non-null   float64 \n",
      " 37  TotalBsmtSF       1459 non-null   float64 \n",
      " 38  Heating           1459 non-null   category\n",
      " 39  HeatingQC         1459 non-null   category\n",
      " 40  CentralAir        1459 non-null   category\n",
      " 41  Electrical        1459 non-null   category\n",
      " 42  FirstFlrSF        1459 non-null   int64   \n",
      " 43  SecondFlrSF       1459 non-null   int64   \n",
      " 44  LowQualFinSF      1459 non-null   int64   \n",
      " 45  GrLivArea         1459 non-null   int64   \n",
      " 46  BsmtFullBath      1459 non-null   float64 \n",
      " 47  BsmtHalfBath      1459 non-null   float64 \n",
      " 48  FullBath          1459 non-null   int64   \n",
      " 49  HalfBath          1459 non-null   int64   \n",
      " 50  BedroomAbvGr      1459 non-null   int64   \n",
      " 51  KitchenAbvGr      1459 non-null   int64   \n",
      " 52  KitchenQual       1459 non-null   category\n",
      " 53  TotRmsAbvGrd      1459 non-null   int64   \n",
      " 54  Functional        1459 non-null   category\n",
      " 55  Fireplaces        1459 non-null   int64   \n",
      " 56  FireplaceQu       1459 non-null   category\n",
      " 57  GarageType        1459 non-null   category\n",
      " 58  GarageYrBlt       1459 non-null   float64 \n",
      " 59  GarageFinish      1459 non-null   category\n",
      " 60  GarageCars        1459 non-null   float64 \n",
      " 61  GarageArea        1459 non-null   float64 \n",
      " 62  GarageQual        1459 non-null   category\n",
      " 63  GarageCond        1459 non-null   category\n",
      " 64  PavedDrive        1459 non-null   category\n",
      " 65  WoodDeckSF        1459 non-null   int64   \n",
      " 66  OpenPorchSF       1459 non-null   int64   \n",
      " 67  EnclosedPorch     1459 non-null   int64   \n",
      " 68  Threeseasonporch  1459 non-null   int64   \n",
      " 69  ScreenPorch       1459 non-null   int64   \n",
      " 70  PoolArea          1459 non-null   int64   \n",
      " 71  PoolQC            1459 non-null   category\n",
      " 72  Fence             1459 non-null   category\n",
      " 73  MiscFeature       1459 non-null   category\n",
      " 74  MiscVal           1459 non-null   int64   \n",
      " 75  MoSold            1459 non-null   int64   \n",
      " 76  YrSold            1459 non-null   int64   \n",
      " 77  SaleType          1459 non-null   category\n",
      " 78  SaleCondition     1459 non-null   category\n",
      " 79  SalePrice         1459 non-null   float64 \n",
      "dtypes: category(46), float64(12), int64(22)\n",
      "memory usage: 478.6 KB\n"
     ]
    },
    {
     "data": {
      "text/plain": [
       "None"
      ]
     },
     "metadata": {},
     "output_type": "display_data"
    }
   ],
   "source": [
    "# Peek at the values\n",
    "display(df_train)\n",
    "display(df_test)\n",
    "\n",
    "# Display information about dtypes and missing values\n",
    "display(df_train.info())\n",
    "display(df_test.info())"
   ]
  },
  {
   "cell_type": "markdown",
   "id": "ce547d83",
   "metadata": {
    "papermill": {
     "duration": 0.012031,
     "end_time": "2022-07-04T11:14:17.717872",
     "exception": false,
     "start_time": "2022-07-04T11:14:17.705841",
     "status": "completed"
    },
    "tags": []
   },
   "source": [
    "## Establish Baseline ##\n",
    "\n",
    "Finally, let's establish a baseline score to judge our feature engineering against.\n",
    "\n",
    "Here is the function we created in Lesson 1 that will compute the cross-validated RMSLE score for a feature set. We've used XGBoost for our model, but you might want to experiment with other models.\n"
   ]
  },
  {
   "cell_type": "code",
   "execution_count": 12,
   "id": "ae675178",
   "metadata": {
    "_kg_hide-input": true,
    "execution": {
     "iopub.execute_input": "2022-07-04T11:14:17.745496Z",
     "iopub.status.busy": "2022-07-04T11:14:17.744822Z",
     "iopub.status.idle": "2022-07-04T11:14:17.752857Z",
     "shell.execute_reply": "2022-07-04T11:14:17.751323Z"
    },
    "papermill": {
     "duration": 0.024464,
     "end_time": "2022-07-04T11:14:17.755262",
     "exception": false,
     "start_time": "2022-07-04T11:14:17.730798",
     "status": "completed"
    },
    "tags": []
   },
   "outputs": [],
   "source": [
    "\n",
    "def score_dataset(X, y, model=XGBRegressor()):\n",
    "    # Label encoding for categoricals\n",
    "    #\n",
    "    # Label encoding is good for XGBoost and RandomForest, but one-hot\n",
    "    # would be better for models like Lasso or Ridge. The `cat.codes`\n",
    "    # attribute holds the category levels.\n",
    "    for colname in X.select_dtypes([\"category\"]):\n",
    "        X[colname] = X[colname].cat.codes\n",
    "    # Metric for Housing competition is RMSLE (Root Mean Squared Log Error)\n",
    "    log_y = np.log(y)\n",
    "    score = cross_val_score(\n",
    "        model, X, log_y, cv=5, scoring=\"neg_mean_squared_error\",\n",
    "    )\n",
    "    score = -1 * score.mean()\n",
    "    score = np.sqrt(score)\n",
    "    return score\n"
   ]
  },
  {
   "cell_type": "markdown",
   "id": "17b903ac",
   "metadata": {
    "papermill": {
     "duration": 0.01233,
     "end_time": "2022-07-04T11:14:17.779516",
     "exception": false,
     "start_time": "2022-07-04T11:14:17.767186",
     "status": "completed"
    },
    "tags": []
   },
   "source": [
    "We can reuse this scoring function anytime we want to try out a new feature set. We'll run it now on the processed data with no additional features and get a baseline score:"
   ]
  },
  {
   "cell_type": "code",
   "execution_count": 13,
   "id": "e6b93a5d",
   "metadata": {
    "execution": {
     "iopub.execute_input": "2022-07-04T11:14:17.805400Z",
     "iopub.status.busy": "2022-07-04T11:14:17.804973Z",
     "iopub.status.idle": "2022-07-04T11:14:20.728336Z",
     "shell.execute_reply": "2022-07-04T11:14:20.727445Z"
    },
    "papermill": {
     "duration": 2.939384,
     "end_time": "2022-07-04T11:14:20.730919",
     "exception": false,
     "start_time": "2022-07-04T11:14:17.791535",
     "status": "completed"
    },
    "tags": []
   },
   "outputs": [
    {
     "name": "stdout",
     "output_type": "stream",
     "text": [
      "Baseline score: 0.14351 RMSLE\n"
     ]
    }
   ],
   "source": [
    "X = df_train.copy()\n",
    "y = X.pop(\"SalePrice\")\n",
    "\n",
    "baseline_score = score_dataset(X, y)\n",
    "print(f\"Baseline score: {baseline_score:.5f} RMSLE\")"
   ]
  },
  {
   "cell_type": "markdown",
   "id": "6a3a2d78",
   "metadata": {
    "papermill": {
     "duration": 0.011714,
     "end_time": "2022-07-04T11:14:20.756127",
     "exception": false,
     "start_time": "2022-07-04T11:14:20.744413",
     "status": "completed"
    },
    "tags": []
   },
   "source": [
    "This baseline score helps us to know whether some set of features we've assembled has actually led to any improvement or not.\n",
    "\n",
    "# Step 2 - Feature Utility Scores #\n",
    "\n",
    "In Lesson 2 we saw how to use mutual information to compute a *utility score* for a feature, giving you an indication of how much potential the feature has. This hidden cell defines the two utility functions we used, `make_mi_scores` and `plot_mi_scores`: "
   ]
  },
  {
   "cell_type": "code",
   "execution_count": 14,
   "id": "15136686",
   "metadata": {
    "_kg_hide-input": true,
    "execution": {
     "iopub.execute_input": "2022-07-04T11:14:20.783152Z",
     "iopub.status.busy": "2022-07-04T11:14:20.782427Z",
     "iopub.status.idle": "2022-07-04T11:14:20.792313Z",
     "shell.execute_reply": "2022-07-04T11:14:20.790983Z"
    },
    "papermill": {
     "duration": 0.026733,
     "end_time": "2022-07-04T11:14:20.795029",
     "exception": false,
     "start_time": "2022-07-04T11:14:20.768296",
     "status": "completed"
    },
    "tags": []
   },
   "outputs": [],
   "source": [
    "\n",
    "def make_mi_scores(X, y):\n",
    "    X = X.copy()\n",
    "    for colname in X.select_dtypes([\"object\", \"category\"]):\n",
    "        X[colname], _ = X[colname].factorize()\n",
    "    # All discrete features should now have integer dtypes\n",
    "    discrete_features = [pd.api.types.is_integer_dtype(t) for t in X.dtypes]\n",
    "    mi_scores = mutual_info_regression(X, y, discrete_features=discrete_features, random_state=0)\n",
    "    mi_scores = pd.Series(mi_scores, name=\"MI Scores\", index=X.columns)\n",
    "    mi_scores = mi_scores.sort_values(ascending=False)\n",
    "    return mi_scores\n",
    "\n",
    "\n",
    "def plot_mi_scores(scores):\n",
    "    scores = scores.sort_values(ascending=True)\n",
    "    width = np.arange(len(scores))\n",
    "    ticks = list(scores.index)\n",
    "    plt.barh(width, scores)\n",
    "    plt.yticks(width, ticks)\n",
    "    plt.title(\"Mutual Information Scores\")"
   ]
  },
  {
   "cell_type": "markdown",
   "id": "33c92268",
   "metadata": {
    "papermill": {
     "duration": 0.011677,
     "end_time": "2022-07-04T11:14:20.818889",
     "exception": false,
     "start_time": "2022-07-04T11:14:20.807212",
     "status": "completed"
    },
    "tags": []
   },
   "source": [
    "Let's look at our feature scores again:"
   ]
  },
  {
   "cell_type": "code",
   "execution_count": 15,
   "id": "804646e3",
   "metadata": {
    "execution": {
     "iopub.execute_input": "2022-07-04T11:14:20.845714Z",
     "iopub.status.busy": "2022-07-04T11:14:20.845310Z",
     "iopub.status.idle": "2022-07-04T11:14:22.428342Z",
     "shell.execute_reply": "2022-07-04T11:14:22.427010Z"
    },
    "papermill": {
     "duration": 1.599904,
     "end_time": "2022-07-04T11:14:22.430936",
     "exception": false,
     "start_time": "2022-07-04T11:14:20.831032",
     "status": "completed"
    },
    "tags": []
   },
   "outputs": [
    {
     "data": {
      "text/plain": [
       "OverallQual     0.571457\n",
       "Neighborhood    0.526220\n",
       "GrLivArea       0.430395\n",
       "YearBuilt       0.407974\n",
       "LotArea         0.394468\n",
       "                  ...   \n",
       "PoolQC          0.000000\n",
       "MiscFeature     0.000000\n",
       "MiscVal         0.000000\n",
       "MoSold          0.000000\n",
       "YrSold          0.000000\n",
       "Name: MI Scores, Length: 79, dtype: float64"
      ]
     },
     "execution_count": 15,
     "metadata": {},
     "output_type": "execute_result"
    }
   ],
   "source": [
    "X = df_train.copy()\n",
    "y = X.pop(\"SalePrice\")\n",
    "\n",
    "mi_scores = make_mi_scores(X, y)\n",
    "mi_scores"
   ]
  },
  {
   "cell_type": "markdown",
   "id": "c5989a63",
   "metadata": {
    "papermill": {
     "duration": 0.011764,
     "end_time": "2022-07-04T11:14:22.454860",
     "exception": false,
     "start_time": "2022-07-04T11:14:22.443096",
     "status": "completed"
    },
    "tags": []
   },
   "source": [
    "You can see that we have a number of features that are highly informative and also some that don't seem to be informative at all (at least by themselves). As we talked about in Tutorial 2, the top scoring features will usually pay-off the most during feature development, so it could be a good idea to focus your efforts on those. On the other hand, training on uninformative features can lead to overfitting. So, the features with 0.0 scores we'll drop entirely:"
   ]
  },
  {
   "cell_type": "code",
   "execution_count": 16,
   "id": "de380bfd",
   "metadata": {
    "execution": {
     "iopub.execute_input": "2022-07-04T11:14:22.480727Z",
     "iopub.status.busy": "2022-07-04T11:14:22.480347Z",
     "iopub.status.idle": "2022-07-04T11:14:22.485832Z",
     "shell.execute_reply": "2022-07-04T11:14:22.484928Z"
    },
    "papermill": {
     "duration": 0.021059,
     "end_time": "2022-07-04T11:14:22.488017",
     "exception": false,
     "start_time": "2022-07-04T11:14:22.466958",
     "status": "completed"
    },
    "tags": []
   },
   "outputs": [],
   "source": [
    "def drop_uninformative(df, mi_scores):\n",
    "    return df.loc[:, mi_scores > 0.0]\n"
   ]
  },
  {
   "cell_type": "markdown",
   "id": "58988c04",
   "metadata": {
    "papermill": {
     "duration": 0.011787,
     "end_time": "2022-07-04T11:14:22.512039",
     "exception": false,
     "start_time": "2022-07-04T11:14:22.500252",
     "status": "completed"
    },
    "tags": []
   },
   "source": [
    "Removing them does lead to a modest performance gain:"
   ]
  },
  {
   "cell_type": "code",
   "execution_count": 17,
   "id": "47b6b985",
   "metadata": {
    "execution": {
     "iopub.execute_input": "2022-07-04T11:14:22.538435Z",
     "iopub.status.busy": "2022-07-04T11:14:22.537738Z",
     "iopub.status.idle": "2022-07-04T11:14:25.473826Z",
     "shell.execute_reply": "2022-07-04T11:14:25.472956Z"
    },
    "papermill": {
     "duration": 2.95234,
     "end_time": "2022-07-04T11:14:25.476529",
     "exception": false,
     "start_time": "2022-07-04T11:14:22.524189",
     "status": "completed"
    },
    "tags": []
   },
   "outputs": [
    {
     "data": {
      "text/plain": [
       "0.14338026718687277"
      ]
     },
     "execution_count": 17,
     "metadata": {},
     "output_type": "execute_result"
    }
   ],
   "source": [
    "X = df_train.copy()\n",
    "y = X.pop(\"SalePrice\")\n",
    "X = drop_uninformative(X, mi_scores)\n",
    "\n",
    "score_dataset(X, y)"
   ]
  },
  {
   "cell_type": "markdown",
   "id": "08ebc0c6",
   "metadata": {
    "papermill": {
     "duration": 0.012716,
     "end_time": "2022-07-04T11:14:25.502684",
     "exception": false,
     "start_time": "2022-07-04T11:14:25.489968",
     "status": "completed"
    },
    "tags": []
   },
   "source": [
    "Later, we'll add the `drop_uninformative` function to our feature-creation pipeline.\n",
    "\n",
    "# Step 3 - Create Features #\n",
    "\n",
    "Now we'll start developing our feature set.\n",
    "\n",
    "To make our feature engineering workflow more modular, we'll define a function that will take a prepared dataframe and pass it through a pipeline of transformations to get the final feature set. It will look something like this:\n",
    "\n",
    "```\n",
    "def create_features(df):\n",
    "    X = df.copy()\n",
    "    y = X.pop(\"SalePrice\")\n",
    "    X = X.join(create_features_1(X))\n",
    "    X = X.join(create_features_2(X))\n",
    "    X = X.join(create_features_3(X))\n",
    "    # ...\n",
    "    return X\n",
    "```\n",
    "\n",
    "Let's go ahead and define one transformation now, a [label encoding](https://www.kaggle.com/alexisbcook/categorical-variables) for the categorical features:"
   ]
  },
  {
   "cell_type": "code",
   "execution_count": 18,
   "id": "b8ddcf78",
   "metadata": {
    "execution": {
     "iopub.execute_input": "2022-07-04T11:14:25.529519Z",
     "iopub.status.busy": "2022-07-04T11:14:25.529104Z",
     "iopub.status.idle": "2022-07-04T11:14:25.534101Z",
     "shell.execute_reply": "2022-07-04T11:14:25.533202Z"
    },
    "papermill": {
     "duration": 0.020962,
     "end_time": "2022-07-04T11:14:25.536214",
     "exception": false,
     "start_time": "2022-07-04T11:14:25.515252",
     "status": "completed"
    },
    "tags": []
   },
   "outputs": [],
   "source": [
    "def label_encode(df):\n",
    "    X = df.copy()\n",
    "    for colname in X.select_dtypes([\"category\"]):\n",
    "        X[colname] = X[colname].cat.codes\n",
    "    return X\n"
   ]
  },
  {
   "cell_type": "markdown",
   "id": "92835167",
   "metadata": {
    "papermill": {
     "duration": 0.012097,
     "end_time": "2022-07-04T11:14:25.560826",
     "exception": false,
     "start_time": "2022-07-04T11:14:25.548729",
     "status": "completed"
    },
    "tags": []
   },
   "source": [
    "A label encoding is okay for any kind of categorical feature when you're using a tree-ensemble like XGBoost, even for unordered categories. If you wanted to try a linear regression model (also popular in this competition), you would instead want to use a one-hot encoding, especially for the features with unordered categories.\n",
    "\n",
    "## Create Features with Pandas ##\n",
    "\n",
    "This cell reproduces the work you did in Exercise 3, where you applied strategies for creating features in Pandas. Modify or add to these functions to try out other feature combinations."
   ]
  },
  {
   "cell_type": "code",
   "execution_count": 19,
   "id": "8f8603e7",
   "metadata": {
    "_kg_hide-input": true,
    "execution": {
     "iopub.execute_input": "2022-07-04T11:14:25.587853Z",
     "iopub.status.busy": "2022-07-04T11:14:25.587134Z",
     "iopub.status.idle": "2022-07-04T11:14:25.598073Z",
     "shell.execute_reply": "2022-07-04T11:14:25.596752Z"
    },
    "papermill": {
     "duration": 0.0277,
     "end_time": "2022-07-04T11:14:25.600867",
     "exception": false,
     "start_time": "2022-07-04T11:14:25.573167",
     "status": "completed"
    },
    "tags": []
   },
   "outputs": [],
   "source": [
    "\n",
    "def mathematical_transforms(df):\n",
    "    X = pd.DataFrame()  # dataframe to hold new features\n",
    "    X[\"LivLotRatio\"] = df.GrLivArea / df.LotArea\n",
    "    X[\"Spaciousness\"] = (df.FirstFlrSF + df.SecondFlrSF) / df.TotRmsAbvGrd\n",
    "    # This feature ended up not helping performance\n",
    "    # X[\"TotalOutsideSF\"] = \\\n",
    "    #     df.WoodDeckSF + df.OpenPorchSF + df.EnclosedPorch + \\\n",
    "    #     df.Threeseasonporch + df.ScreenPorch\n",
    "    return X\n",
    "\n",
    "\n",
    "def interactions(df):\n",
    "    X = pd.get_dummies(df.BldgType, prefix=\"Bldg\")\n",
    "    X = X.mul(df.GrLivArea, axis=0)\n",
    "    return X\n",
    "\n",
    "\n",
    "def counts(df):\n",
    "    X = pd.DataFrame()\n",
    "    X[\"PorchTypes\"] = df[[\n",
    "        \"WoodDeckSF\",\n",
    "        \"OpenPorchSF\",\n",
    "        \"EnclosedPorch\",\n",
    "        \"Threeseasonporch\",\n",
    "        \"ScreenPorch\",\n",
    "    ]].gt(0.0).sum(axis=1)\n",
    "    return X\n",
    "\n",
    "\n",
    "def break_down(df):\n",
    "    X = pd.DataFrame()\n",
    "    X[\"MSClass\"] = df.MSSubClass.str.split(\"_\", n=1, expand=True)[0]\n",
    "    return X\n",
    "\n",
    "\n",
    "def group_transforms(df):\n",
    "    X = pd.DataFrame()\n",
    "    X[\"MedNhbdArea\"] = df.groupby(\"Neighborhood\")[\"GrLivArea\"].transform(\"median\")\n",
    "    return X\n"
   ]
  },
  {
   "cell_type": "markdown",
   "id": "8ae9ef4e",
   "metadata": {
    "papermill": {
     "duration": 0.012454,
     "end_time": "2022-07-04T11:14:25.627056",
     "exception": false,
     "start_time": "2022-07-04T11:14:25.614602",
     "status": "completed"
    },
    "tags": []
   },
   "source": [
    "---\n",
    "\n",
    "\n",
    "\n",
    "\n",
    "*Have questions or comments? Visit the [course discussion forum](https://www.kaggle.com/learn/feature-engineering/discussion) to chat with other learners.*"
   ]
  },
  {
   "cell_type": "code",
   "execution_count": 20,
   "id": "ae5b1fd0",
   "metadata": {
    "execution": {
     "iopub.execute_input": "2022-07-04T11:14:25.653676Z",
     "iopub.status.busy": "2022-07-04T11:14:25.653289Z",
     "iopub.status.idle": "2022-07-04T11:14:25.702839Z",
     "shell.execute_reply": "2022-07-04T11:14:25.701678Z"
    },
    "papermill": {
     "duration": 0.066326,
     "end_time": "2022-07-04T11:14:25.705794",
     "exception": false,
     "start_time": "2022-07-04T11:14:25.639468",
     "status": "completed"
    },
    "tags": []
   },
   "outputs": [],
   "source": [
    "X_train, X_test =df_train, df_test\n",
    "y_train = df_train.loc[:, \"SalePrice\"]\n",
    "X_train = label_encode(X_train)\n",
    "X_test = label_encode(X_test)\n"
   ]
  },
  {
   "cell_type": "markdown",
   "id": "d218dbc7",
   "metadata": {
    "papermill": {
     "duration": 0.011911,
     "end_time": "2022-07-04T11:14:25.729960",
     "exception": false,
     "start_time": "2022-07-04T11:14:25.718049",
     "status": "completed"
    },
    "tags": []
   },
   "source": [
    "## Decision Tree modeling ##"
   ]
  },
  {
   "cell_type": "code",
   "execution_count": 21,
   "id": "3394a152",
   "metadata": {
    "execution": {
     "iopub.execute_input": "2022-07-04T11:14:25.756907Z",
     "iopub.status.busy": "2022-07-04T11:14:25.755634Z",
     "iopub.status.idle": "2022-07-04T11:14:26.297436Z",
     "shell.execute_reply": "2022-07-04T11:14:26.296212Z"
    },
    "papermill": {
     "duration": 0.557877,
     "end_time": "2022-07-04T11:14:26.300120",
     "exception": false,
     "start_time": "2022-07-04T11:14:25.742243",
     "status": "completed"
    },
    "tags": []
   },
   "outputs": [],
   "source": [
    "from sklearn.tree import DecisionTreeClassifier\n",
    "\n",
    "clf = DecisionTreeClassifier(criterion='entropy', random_state=0)  \n",
    "clf.fit(X_train, y_train) \n",
    "predictions= clf.predict(X_test)  "
   ]
  },
  {
   "cell_type": "code",
   "execution_count": 22,
   "id": "88ee83c1",
   "metadata": {
    "execution": {
     "iopub.execute_input": "2022-07-04T11:14:26.327473Z",
     "iopub.status.busy": "2022-07-04T11:14:26.326385Z",
     "iopub.status.idle": "2022-07-04T11:14:29.087442Z",
     "shell.execute_reply": "2022-07-04T11:14:29.086591Z"
    },
    "papermill": {
     "duration": 2.777606,
     "end_time": "2022-07-04T11:14:29.090055",
     "exception": false,
     "start_time": "2022-07-04T11:14:26.312449",
     "status": "completed"
    },
    "tags": []
   },
   "outputs": [
    {
     "data": {
      "text/plain": [
       "0.012875371034652241"
      ]
     },
     "execution_count": 22,
     "metadata": {},
     "output_type": "execute_result"
    }
   ],
   "source": [
    "score_dataset(X_train, y_train)"
   ]
  },
  {
   "cell_type": "code",
   "execution_count": 23,
   "id": "496cb7f2",
   "metadata": {
    "execution": {
     "iopub.execute_input": "2022-07-04T11:14:29.118491Z",
     "iopub.status.busy": "2022-07-04T11:14:29.118111Z",
     "iopub.status.idle": "2022-07-04T11:14:29.132046Z",
     "shell.execute_reply": "2022-07-04T11:14:29.130700Z"
    },
    "papermill": {
     "duration": 0.030941,
     "end_time": "2022-07-04T11:14:29.134752",
     "exception": false,
     "start_time": "2022-07-04T11:14:29.103811",
     "status": "completed"
    },
    "tags": []
   },
   "outputs": [
    {
     "name": "stdout",
     "output_type": "stream",
     "text": [
      "Your submission was successfully saved!\n"
     ]
    }
   ],
   "source": [
    "output = pd.DataFrame({'Id': X_test.index, 'SalePrice': predictions})\n",
    "output.to_csv('my_submission.csv', index=False)\n",
    "print(\"Your submission was successfully saved!\")"
   ]
  }
 ],
 "metadata": {
  "kernelspec": {
   "display_name": "Python 3",
   "language": "python",
   "name": "python3"
  },
  "language_info": {
   "codemirror_mode": {
    "name": "ipython",
    "version": 3
   },
   "file_extension": ".py",
   "mimetype": "text/x-python",
   "name": "python",
   "nbconvert_exporter": "python",
   "pygments_lexer": "ipython3",
   "version": "3.7.12"
  },
  "papermill": {
   "default_parameters": {},
   "duration": 25.713376,
   "end_time": "2022-07-04T11:14:29.868410",
   "environment_variables": {},
   "exception": null,
   "input_path": "__notebook__.ipynb",
   "output_path": "__notebook__.ipynb",
   "parameters": {},
   "start_time": "2022-07-04T11:14:04.155034",
   "version": "2.3.4"
  }
 },
 "nbformat": 4,
 "nbformat_minor": 5
}
